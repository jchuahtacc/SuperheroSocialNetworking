{
 "cells": [
  {
   "cell_type": "markdown",
   "metadata": {},
   "source": [
    "# Python List Processing and Graphing Tutorial\n",
    "\n",
    "### Introduction\n",
    "\n",
    "In this tutorial, we will show how to read link data from files as a list and graph the data. You can hit `Ctrl-Enter` on an individual cell to run it. In Jupyter/IPython Notebooks, cells can be run individually and any variables created in the cell stay \"active\" until you reset the notebook kernel."
   ]
  },
  {
   "cell_type": "markdown",
   "metadata": {},
   "source": [
    "### Reading data from a file\n",
    "\n",
    "Python has very good support for reading data from a text file. Calling `open(\"filename.txt', \"r\")` opens the `filename.txt` and returns a [Python file object](https://docs.python.org/2/tutorial/inputoutput.html#methods-of-file-objects) that can be read. Changing the `\"r\"` to `\"w\"` would allow you to open the file for writing, instead. Try opening a the `\"iron_man_links.txt\"` file and save the returned file object in a variable called `iron_man_file`"
   ]
  },
  {
   "cell_type": "code",
   "execution_count": null,
   "metadata": {
    "collapsed": true
   },
   "outputs": [],
   "source": [
    "# Open \"iron_man_links.txt\" for reading\n",
    "\n",
    "iron_man_file = ________"
   ]
  },
  {
   "cell_type": "markdown",
   "metadata": {},
   "source": [
    "### Reading the file line by line\n",
    "\n",
    "One of Python's strengths is that it is very good at working with lists. Many functions built into Python are designed to operate on lists, which are expandable and do not have fixed size. Calling a file object's `readlines()` method will return a list. Try retrieving the list of lines from `iron_man_file` and saving it as `iron_man_links`."
   ]
  },
  {
   "cell_type": "code",
   "execution_count": null,
   "metadata": {
    "collapsed": true
   },
   "outputs": [],
   "source": [
    "# call the iron_man_file's readlines() function\n",
    "\n",
    "iron_man_links = ______\n",
    "\n",
    "print iron_man_links"
   ]
  },
  {
   "cell_type": "markdown",
   "metadata": {},
   "source": [
    "### Iterating through a list\n",
    "\n",
    "`for` loops in Python are designed to work with items in lists. Lists are designed to be *iterable*, and Python `for` loops are said to *iterate* through items in the list. In fact, trying to write a C-style for loop to access the list as if it were an array is more difficult and less preferable. In this `for` loop, try printing an individual link."
   ]
  },
  {
   "cell_type": "code",
   "execution_count": null,
   "metadata": {
    "collapsed": true
   },
   "outputs": [],
   "source": [
    "for iron_man_link in iron_man_links:\n",
    "    # print the link\n",
    "    print _____"
   ]
  },
  {
   "cell_type": "markdown",
   "metadata": {},
   "source": [
    "### That's a lot of links!\n",
    "\n",
    "We only want to deal with links in the Iron Man article that are related to the Marvel Cinematic Universe. A list of Marvel Cinematic Unvierse links has been stored in the `\"mcu_articles.txt\"` file. Open that file, read it into another list called `mcu_links` and try printing those links"
   ]
  },
  {
   "cell_type": "code",
   "execution_count": null,
   "metadata": {
    "collapsed": true
   },
   "outputs": [],
   "source": [
    "# Open \"mcu_articles.txt\" and read its contents into a variable called mcu_links\n",
    "\n",
    "# Use a for loop to print each element in mcu_links"
   ]
  },
  {
   "cell_type": "markdown",
   "metadata": {},
   "source": [
    "### Filtering the Iron Man links, part 1\n",
    "\n",
    "Let's filter the `iron_man_links` list for items that only appear in `mcu_links`. We will do this using Python's `in` operator. `in` allows you to see if an element appears in a list. In other languages, you would have to write a search function. Python has this operator built in. First, we need to create a new empty list called `filtered`. Assign the `filtered` variable the result of the `list()` function"
   ]
  },
  {
   "cell_type": "code",
   "execution_count": null,
   "metadata": {
    "collapsed": true
   },
   "outputs": [],
   "source": [
    "# assign filtered the result of list()\n",
    "\n",
    "_____ = list()"
   ]
  },
  {
   "cell_type": "markdown",
   "metadata": {},
   "source": [
    "### Filtering the Iron Man links, part 2\n",
    "\n",
    "In the body of the `for` loop, add an `if` statement that checks to see if an individual iron_man_link is `in` the `mcu_links` list. If it is, print the `iron_man_link`"
   ]
  },
  {
   "cell_type": "code",
   "execution_count": null,
   "metadata": {
    "collapsed": true
   },
   "outputs": [],
   "source": [
    "for iron_man_link in iron_man_links:\n",
    "    # fill in the if condition\n",
    "    if  ____ in ______ :\n",
    "        print iron_man_link"
   ]
  },
  {
   "cell_type": "markdown",
   "metadata": {},
   "source": [
    "### Filtering the Iron Man links, part 3\n",
    "\n",
    "That's good, but we don't want to just print it. We want to add the link into our list of `filtered` links. Lists have an `append( object )` function that can be used to add objects to the end of a list. Replace the `print` statement with the a statement that appends to the end of `filtered`."
   ]
  },
  {
   "cell_type": "code",
   "execution_count": null,
   "metadata": {
    "collapsed": true
   },
   "outputs": [],
   "source": [
    "for iron_man_link in iron_man_links:\n",
    "    if iron_man_link in mcu_links:\n",
    "        # Replace this line\n",
    "        print iron_man_link\n",
    "        \n",
    "print filtered"
   ]
  },
  {
   "cell_type": "markdown",
   "metadata": {},
   "source": [
    "### Filtering the Iron Man links, the Pythonic way\n",
    "\n",
    "Python has some mechanisms that allow you to write extremely compact code dealing with lists. One such mechanism is \"list comprehension\". Using \"list comprehension\" (and other mechanisms such as \"lambdas\") instead of writing large for loops is considered to be preferable by some programmers. This is called the *Pythonic* way. Understanding how to write Python code in a Pythonic way is not necessary, unless you get into a conversation with a Python programmer who is a purist. Below is example code of how to do all of the above in a *Pythonic* fashion."
   ]
  },
  {
   "cell_type": "code",
   "execution_count": null,
   "metadata": {
    "collapsed": true
   },
   "outputs": [],
   "source": [
    "filtered = [link for link in iron_man_links if link in mcu_links]"
   ]
  },
  {
   "cell_type": "markdown",
   "metadata": {},
   "source": [
    "### Graphing the Iron Man link network\n",
    "\n",
    "We will use a Python package called `networkx` to draw a node graph of all the links. First, we must import the `networkx` library. In Python we, can import code using the `import` statement. Furthermore, when we import Packages sometimes we must give them a name within our Python code that we can refer to. Run the cell below, which imports `networkx` and `matplotlib.pyplot`, which is a useful plotting library commonly used in Python."
   ]
  },
  {
   "cell_type": "code",
   "execution_count": null,
   "metadata": {
    "collapsed": true
   },
   "outputs": [],
   "source": [
    "# A \"magic\" command for Jupyter/IPython which forces matplotlib graphs to be drawn in the notebook\n",
    "%matplotlib inline\n",
    "\n",
    "import matplotlib.pyplot as plt\n",
    "import networkx as nx"
   ]
  },
  {
   "cell_type": "markdown",
   "metadata": {},
   "source": [
    "### Adding edges to a graph\n",
    "\n",
    "We need to create a `graph` object and fill it with edges, using the `graph` object's `add_edge( from, to )` function. Iterate through the `filtered` list and add each element as an edge from `\"/wiki/Iron_Man\"."
   ]
  },
  {
   "cell_type": "code",
   "execution_count": null,
   "metadata": {
    "collapsed": true
   },
   "outputs": [],
   "source": [
    "# Create a graph\n",
    "graph = nx.Graph()\n",
    "\n",
    "\n",
    "# Iterate through the filtered list, adding each link as an edge to graph\n",
    "\n",
    "for ____ in ______ :\n",
    "    graph.add_edge(\"/wiki/Iron_Man\\n\", ____ )\n",
    "    \n",
    "# Draw a graph\n",
    "plt.figure(1, figsize=(12, 12))\n",
    "nx.draw_networkx(graph)\n",
    "plt.show()"
   ]
  },
  {
   "cell_type": "markdown",
   "metadata": {},
   "source": [
    "### Dictionaries\n",
    "\n",
    "This graph displays all of the links and edges, but doesn't consider which links are most important. For example, `Pepper Potts` appears as a link from `Iron Man` many times, so her article's link should be more important. Let's count each appearance as a \"weight\" for the link. First, we have to have a way of storing weights.\n",
    "\n",
    "Python has a data structure called a dictionary, which allows you to store pairs of keys and values. The keys and values can be of any type of data. Try assigning some key/value pairs to the `weights` dictionary."
   ]
  },
  {
   "cell_type": "code",
   "execution_count": null,
   "metadata": {
    "collapsed": true
   },
   "outputs": [],
   "source": [
    "# Creates a dictionary called weights\n",
    "weights = dict()\n",
    "\n",
    "# Replace the key/value pairs with any kind of data. Try setting one of the keys to \"Pepper Potts\" and its value to 3\n",
    "weights[ ____ ] = ________\n",
    "weights [ _____ ] = _______\n",
    "\n",
    "print weights"
   ]
  },
  {
   "cell_type": "markdown",
   "metadata": {},
   "source": [
    "### The `in` operator and dictionaries\n",
    "\n",
    "Just like lists, we can use the `in` operator to test to see if a key is in a dictionary. We can also iterate through the keys of a dictionary using a `for` loop. Try testing for keys in the dictionary and iterating through its keys."
   ]
  },
  {
   "cell_type": "code",
   "execution_count": null,
   "metadata": {
    "collapsed": true
   },
   "outputs": [],
   "source": [
    "# Replace __key__ with a key of your choice\n",
    "if _________ in dict():\n",
    "    print \"Key\", _______, \"was found with value\", weights[ ________ ]\n",
    "else:\n",
    "    print \"Key\", _______, \"is missing\"\n",
    "    \n",
    "for link in weights:\n",
    "    # Try printing the link (which is the key name) and the value from the weights dictionary\n",
    "    print \"Key:\", link, \"Value:\", weights[ link ]"
   ]
  },
  {
   "cell_type": "markdown",
   "metadata": {},
   "source": [
    "### Making a dictionary of weights\n",
    "\n",
    "We can assign weights to each of the links from the Iron Man article before we create the graph. The weight should be the number of links to a specific article. The general algorithm should be:\n",
    "\n",
    "```\n",
    "for each link in the filtered list\n",
    "  if the link appears in the weights\n",
    "    add one to the value of the weight that is mapped to the link\n",
    "  else\n",
    "    assign the weight a mapped value of 1\n",
    "  end if\n",
    "end for\n",
    "```"
   ]
  },
  {
   "cell_type": "code",
   "execution_count": null,
   "metadata": {
    "collapsed": true
   },
   "outputs": [],
   "source": [
    "weights = dict()\n",
    "\n",
    "for ____ in _____:\n",
    "    if ____ in ______:\n",
    "        _____ = ______ + 1\n",
    "    else:\n",
    "        _____ = 1\n",
    "\n",
    "print weights"
   ]
  },
  {
   "cell_type": "markdown",
   "metadata": {},
   "source": [
    "### Let's try creating a weighted graph now\n",
    "\n",
    "This time, instead of adding edges from the list of `filtered` links, we will add edges from the dictionary of `weights`. This allows us to also specify a weight with a *named argument*. Named arguments in Python are a way of adding formal parameters by name, rather than by order. This is especially useful if there are many parameters for a function. We can add an edge the graph with `add_edge( from, to, weight=value)`, where `weight` is the named parameter.\n",
    "\n",
    "In the new graph, you should notice that the arrangement of the nodes is different from the non-weighted graph. What did you notice?"
   ]
  },
  {
   "cell_type": "code",
   "execution_count": null,
   "metadata": {
    "collapsed": true
   },
   "outputs": [],
   "source": [
    "# Create a graph\n",
    "graph = nx.Graph()\n",
    "\n",
    "# Iterate through the weights dictionary, adding each link as an edge to graph with a specified weight\n",
    "\n",
    "for ____ in ______ :\n",
    "    graph.add_edge(\"/wiki/Iron_Man\\n\", ____, weight=_______ )\n",
    "    \n",
    "# Draw a graph\n",
    "plt.figure(1, figsize=(12, 12))\n",
    "nx.draw_networkx(graph)\n",
    "plt.show()"
   ]
  },
  {
   "cell_type": "markdown",
   "metadata": {},
   "source": [
    "### How about some color\n",
    "\n",
    "In this visualization, the nodes closest to Iron Man have the highest weight, meaning that they have the highest number of links from Iron Man to that character. It would be nice if the color of the edges also reflected that. We can do this by creating a list of weights and tying them to a color map. To do this, we need the list of edges and their weights in order of how they are stored in the graph. We can get it by calling `graph.edges()`. Try running the code below and see what is printed"
   ]
  },
  {
   "cell_type": "code",
   "execution_count": null,
   "metadata": {
    "collapsed": true
   },
   "outputs": [],
   "source": [
    "print graph.edges(data=True)"
   ]
  },
  {
   "cell_type": "markdown",
   "metadata": {},
   "source": [
    "### Tuples\n",
    "\n",
    "The list contains values that are tied together by parentheses. These are tuples - in this case, a triplet of values. Let's try printing just the third value in the tuple, which is the \"data\" that is tied to each edge"
   ]
  },
  {
   "cell_type": "code",
   "execution_count": null,
   "metadata": {
    "collapsed": true
   },
   "outputs": [],
   "source": [
    "for (u, v, d) in graph.edges(data=True)\n",
    "    print ____"
   ]
  },
  {
   "cell_type": "markdown",
   "metadata": {},
   "source": [
    "### Creating a list of just what we want (the weights)\n",
    "\n",
    "The third value in the tuple is the edge data, which is a dictionary that has a `\"weight\"` key. Create a list called `colors` that only contains the `\"weight\"` values."
   ]
  },
  {
   "cell_type": "code",
   "execution_count": null,
   "metadata": {
    "collapsed": true
   },
   "outputs": [],
   "source": [
    "colors = ______\n",
    "\n",
    "for (u, v, d) in graph.edges(data=True)\n",
    "    colors.append( ___________ )\n",
    "    \n",
    "# Or the Pythonic way:\n",
    "# colors = [ d[\"weight\"] for (u, v, d) in data.edges(data=True) ]"
   ]
  },
  {
   "cell_type": "markdown",
   "metadata": {},
   "source": [
    "### Graphing with a color map\n",
    "\n",
    "When we supply the `colors` list as the `edge_color` named parameter and also provide the `edge_cmap` named parameter, `networkx` will draw the edges as colors mapped from the weight values. If you want to see available color maps, you can look at the standard [`matplotlib` color maps](http://matplotlib.org/examples/color/colormaps_reference.html)."
   ]
  },
  {
   "cell_type": "code",
   "execution_count": null,
   "metadata": {
    "collapsed": false
   },
   "outputs": [],
   "source": [
    "# Draw a graph\n",
    "plt.figure(1, figsize=(12, 12))\n",
    "nx.draw_networkx(graph, edge_color=____, edge_cmap=plt.cm.Blues)\n",
    "plt.show()\n"
   ]
  }
 ],
 "metadata": {
  "kernelspec": {
   "display_name": "Python 2",
   "language": "python",
   "name": "python2"
  },
  "language_info": {
   "codemirror_mode": {
    "name": "ipython",
    "version": 2
   },
   "file_extension": ".py",
   "mimetype": "text/x-python",
   "name": "python",
   "nbconvert_exporter": "python",
   "pygments_lexer": "ipython2",
   "version": "2.7.13"
  }
 },
 "nbformat": 4,
 "nbformat_minor": 2
}
